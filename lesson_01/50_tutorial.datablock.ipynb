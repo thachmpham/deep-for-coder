<!doctype html><html lang="en"><head><meta charset="utf-8"><title>JupyterLab</title><meta name="viewport" content="width=device-width,initial-scale=1">   <script id="jupyter-config-data" type="application/json">{"allow_hidden_files": false, "appName": "JupyterLab", "appNamespace": "lab", "appSettingsDir": "/home/mt/.local/share/jupyter/lab/settings", "appUrl": "/lab", "appVersion": "3.4.2", "baseUrl": "/", "buildAvailable": true, "buildCheck": true, "cacheFiles": false, "collaborative": false, "devMode": false, "disabledExtensions": [], "exposeAppInBrowser": false, "extraLabextensionsPath": [], "federated_extensions": [{"extension": "./extension", "load": "static/remoteEntry.aa1060b2d1221f8e5688.js", "name": "jupyterlab_pygments", "style": "./style"}, {"extension": "./extension", "load": "static/remoteEntry.3421943a0ce73f10909d.js", "name": "@jupyter-widgets/jupyterlab-manager"}, {"extension": "./extension", "load": "static/remoteEntry.7f82cb668ab24ab4675c.js", "name": "ipyparallel-labextension"}], "fullAppUrl": "/lab", "fullLabextensionsUrl": "/lab/extensions", "fullLicensesUrl": "/lab/api/licenses", "fullListingsUrl": "/lab/api/listings", "fullMathjaxUrl": "/static/notebook/components/MathJax/MathJax.js", "fullSettingsUrl": "/lab/api/settings", "fullStaticUrl": "/static/lab", "fullThemesUrl": "/lab/api/themes", "fullTranslationsApiUrl": "/lab/api/translations", "fullTreeUrl": "/lab/tree", "fullWorkspacesApiUrl": "/lab/api/workspaces", "ignorePlugins": [], "labextensionsPath": ["/home/mt/.local/share/jupyter/labextensions", "/usr/local/share/jupyter/labextensions", "/usr/share/jupyter/labextensions"], "labextensionsUrl": "/lab/extensions", "licensesUrl": "/lab/api/licenses", "listingsUrl": "/lab/api/listings", "mathjaxConfig": "TeX-AMS-MML_HTMLorMML-full,Safe", "mode": "multiple-document", "notebookStartsKernel": true, "notebookVersion": "[1, 17, 0, \"\", \"\"]", "preferredPath": "/", "quitButton": true, "schemasDir": "/home/mt/.local/share/jupyter/lab/schemas", "serverRoot": "~/deep-for-coder/lesson_01", "settingsUrl": "/lab/api/settings", "staticDir": "/home/mt/.local/share/jupyter/lab/static", "store_id": 1, "templatesDir": "/home/mt/.local/share/jupyter/lab/static", "terminalsAvailable": true, "themesDir": "/home/mt/.local/share/jupyter/lab/themes", "themesUrl": "/lab/api/themes", "token": "68df42c801457f243f23906980035d48fa92164a44cf2841", "translationsApiUrl": "/lab/api/translations", "treePath": "nbs/50_tutorial.datablock.ipynb", "treeUrl": "/lab/tree", "userSettingsDir": "/home/mt/.jupyter/lab/user-settings", "workspace": "default", "workspacesApiUrl": "/lab/api/workspaces", "workspacesDir": "/home/mt/.jupyter/lab/workspaces", "wsUrl": ""}</script><link rel="icon" type="image/x-icon" href="/static/favicons/favicon.ico" class="idle favicon"><link rel="" type="image/x-icon" href="/static/favicons/favicon-busy-1.ico" class="busy favicon"><script defer="defer" src="/static/lab/main.15c2704bac3a4ad263c1.js?v=15c2704bac3a4ad263c1"></script></head><body><script>/* Remove token from URL. */
  (function () {
    var location = window.location;
    var search = location.search;

    // If there is no query string, bail.
    if (search.length <= 1) {
      return;
    }

    // Rebuild the query string without the `token`.
    var query = '?' + search.slice(1).split('&')
      .filter(function (param) { return param.split('=')[0] !== 'token'; })
      .join('&');

    // Rebuild the URL with the new query string.
    var url = location.origin + location.pathname +
      (query !== '?' ? query : '') + location.hash;

    if (url === location.href) {
      return;
    }

    window.history.replaceState({ }, '', url);
  })();</script></body></html>