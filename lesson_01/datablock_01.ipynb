from fastai.data.all import *
from fastai.vision.all import *

# download and untar pet images collection
path = untar_data(URLs.PETS)

# URLs.PETS = https://s3.amazonaws.com/fast-ai-imageclas/oxford-iiit-pet.tgz
# path      = /root/.fastai/data/oxford-iiit-pet

# get list of all images in folder path/"images"
fnames = get_image_files(path/"images")

# create DataBlock (container to quickly build DataLoaders)
dblock = DataBlock( blocks    = (ImageBlock, CategoryBlock),
                    get_items = get_image_files,
                    get_y     = label_func,
                    splitter  = RandomSplitter(),
                    item_tfms = Resize(224))

# create DataLoaders from folder path/"images"
dls = dblock.dataloaders(path/"images")

# show images and their label
dls.show_batch(max_n=15)
